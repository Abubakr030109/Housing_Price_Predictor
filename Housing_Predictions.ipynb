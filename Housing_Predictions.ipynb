{
 "cells": [
  {
   "cell_type": "code",
   "execution_count": 3,
   "metadata": {},
   "outputs": [],
   "source": [
    "import pandas as pd\n",
    "import numpy as np\n",
    "import matplotlib.pyplot as plt"
   ]
  },
  {
   "cell_type": "markdown",
   "metadata": {},
   "source": [
    "## Analyzing Dataset"
   ]
  },
  {
   "cell_type": "code",
   "execution_count": 4,
   "metadata": {},
   "outputs": [
    {
     "data": {
      "text/html": [
       "<div>\n",
       "<style scoped>\n",
       "    .dataframe tbody tr th:only-of-type {\n",
       "        vertical-align: middle;\n",
       "    }\n",
       "\n",
       "    .dataframe tbody tr th {\n",
       "        vertical-align: top;\n",
       "    }\n",
       "\n",
       "    .dataframe thead th {\n",
       "        text-align: right;\n",
       "    }\n",
       "</style>\n",
       "<table border=\"1\" class=\"dataframe\">\n",
       "  <thead>\n",
       "    <tr style=\"text-align: right;\">\n",
       "      <th></th>\n",
       "      <th>bedroom_count</th>\n",
       "      <th>net_sqm</th>\n",
       "      <th>center_distance</th>\n",
       "      <th>metro_distance</th>\n",
       "      <th>floor</th>\n",
       "      <th>age</th>\n",
       "      <th>price</th>\n",
       "    </tr>\n",
       "  </thead>\n",
       "  <tbody>\n",
       "    <tr>\n",
       "      <th>0</th>\n",
       "      <td>1</td>\n",
       "      <td>26.184098</td>\n",
       "      <td>1286.68</td>\n",
       "      <td>204.003817</td>\n",
       "      <td>22</td>\n",
       "      <td>67</td>\n",
       "      <td>96004.804557</td>\n",
       "    </tr>\n",
       "    <tr>\n",
       "      <th>1</th>\n",
       "      <td>1</td>\n",
       "      <td>34.866901</td>\n",
       "      <td>1855.25</td>\n",
       "      <td>186.980360</td>\n",
       "      <td>8</td>\n",
       "      <td>30</td>\n",
       "      <td>92473.722568</td>\n",
       "    </tr>\n",
       "    <tr>\n",
       "      <th>2</th>\n",
       "      <td>1</td>\n",
       "      <td>36.980709</td>\n",
       "      <td>692.09</td>\n",
       "      <td>111.224999</td>\n",
       "      <td>24</td>\n",
       "      <td>24</td>\n",
       "      <td>98112.519942</td>\n",
       "    </tr>\n",
       "    <tr>\n",
       "      <th>3</th>\n",
       "      <td>1</td>\n",
       "      <td>17.445723</td>\n",
       "      <td>1399.49</td>\n",
       "      <td>237.998760</td>\n",
       "      <td>1</td>\n",
       "      <td>66</td>\n",
       "      <td>92118.326874</td>\n",
       "    </tr>\n",
       "    <tr>\n",
       "      <th>4</th>\n",
       "      <td>1</td>\n",
       "      <td>52.587646</td>\n",
       "      <td>84.65</td>\n",
       "      <td>100.996400</td>\n",
       "      <td>20</td>\n",
       "      <td>3</td>\n",
       "      <td>98976.653176</td>\n",
       "    </tr>\n",
       "  </tbody>\n",
       "</table>\n",
       "</div>"
      ],
      "text/plain": [
       "   bedroom_count    net_sqm  center_distance  metro_distance  floor  age  \\\n",
       "0              1  26.184098          1286.68      204.003817     22   67   \n",
       "1              1  34.866901          1855.25      186.980360      8   30   \n",
       "2              1  36.980709           692.09      111.224999     24   24   \n",
       "3              1  17.445723          1399.49      237.998760      1   66   \n",
       "4              1  52.587646            84.65      100.996400     20    3   \n",
       "\n",
       "          price  \n",
       "0  96004.804557  \n",
       "1  92473.722568  \n",
       "2  98112.519942  \n",
       "3  92118.326874  \n",
       "4  98976.653176  "
      ]
     },
     "execution_count": 4,
     "metadata": {},
     "output_type": "execute_result"
    }
   ],
   "source": [
    "housing_market_data = pd.read_csv(\"house.csv\")\n",
    "housing_market_data.head()"
   ]
  },
  {
   "cell_type": "code",
   "execution_count": 5,
   "metadata": {},
   "outputs": [
    {
     "name": "stdout",
     "output_type": "stream",
     "text": [
      "int64\n",
      "float64\n",
      "float64\n",
      "float64\n",
      "int64\n",
      "int64\n",
      "float64\n"
     ]
    }
   ],
   "source": [
    "for i in range(0, len(housing_market_data.columns)): \n",
    "    print(housing_market_data.iloc[:,i].dtype) # Checking if the data types are correct"
   ]
  },
  {
   "cell_type": "code",
   "execution_count": 6,
   "metadata": {},
   "outputs": [
    {
     "data": {
      "text/plain": [
       "bedroom_count      0\n",
       "net_sqm            0\n",
       "center_distance    0\n",
       "metro_distance     0\n",
       "floor              0\n",
       "age                0\n",
       "price              0\n",
       "dtype: int64"
      ]
     },
     "execution_count": 6,
     "metadata": {},
     "output_type": "execute_result"
    }
   ],
   "source": [
    "housing_market_data.isnull().sum() # Checking for missing values"
   ]
  },
  {
   "cell_type": "code",
   "execution_count": 7,
   "metadata": {},
   "outputs": [
    {
     "data": {
      "text/html": [
       "<div>\n",
       "<style scoped>\n",
       "    .dataframe tbody tr th:only-of-type {\n",
       "        vertical-align: middle;\n",
       "    }\n",
       "\n",
       "    .dataframe tbody tr th {\n",
       "        vertical-align: top;\n",
       "    }\n",
       "\n",
       "    .dataframe thead th {\n",
       "        text-align: right;\n",
       "    }\n",
       "</style>\n",
       "<table border=\"1\" class=\"dataframe\">\n",
       "  <thead>\n",
       "    <tr style=\"text-align: right;\">\n",
       "      <th></th>\n",
       "      <th>bedroom_count</th>\n",
       "      <th>net_sqm</th>\n",
       "      <th>center_distance</th>\n",
       "      <th>metro_distance</th>\n",
       "      <th>floor</th>\n",
       "      <th>age</th>\n",
       "      <th>price</th>\n",
       "    </tr>\n",
       "  </thead>\n",
       "  <tbody>\n",
       "    <tr>\n",
       "      <th>count</th>\n",
       "      <td>4308.000000</td>\n",
       "      <td>4308.000000</td>\n",
       "      <td>4308.000000</td>\n",
       "      <td>4308.000000</td>\n",
       "      <td>4308.000000</td>\n",
       "      <td>4308.000000</td>\n",
       "      <td>4308.000000</td>\n",
       "    </tr>\n",
       "    <tr>\n",
       "      <th>mean</th>\n",
       "      <td>3.732823</td>\n",
       "      <td>118.941327</td>\n",
       "      <td>1090.544301</td>\n",
       "      <td>105.665358</td>\n",
       "      <td>9.397168</td>\n",
       "      <td>48.576834</td>\n",
       "      <td>95701.196185</td>\n",
       "    </tr>\n",
       "    <tr>\n",
       "      <th>std</th>\n",
       "      <td>2.476989</td>\n",
       "      <td>95.469802</td>\n",
       "      <td>555.325830</td>\n",
       "      <td>60.750825</td>\n",
       "      <td>7.517018</td>\n",
       "      <td>27.621465</td>\n",
       "      <td>3919.823988</td>\n",
       "    </tr>\n",
       "    <tr>\n",
       "      <th>min</th>\n",
       "      <td>1.000000</td>\n",
       "      <td>10.244518</td>\n",
       "      <td>11.800000</td>\n",
       "      <td>1.245338</td>\n",
       "      <td>1.000000</td>\n",
       "      <td>0.000000</td>\n",
       "      <td>86113.592974</td>\n",
       "    </tr>\n",
       "    <tr>\n",
       "      <th>25%</th>\n",
       "      <td>2.000000</td>\n",
       "      <td>52.240659</td>\n",
       "      <td>635.897500</td>\n",
       "      <td>56.156897</td>\n",
       "      <td>2.000000</td>\n",
       "      <td>25.000000</td>\n",
       "      <td>92934.251436</td>\n",
       "    </tr>\n",
       "    <tr>\n",
       "      <th>50%</th>\n",
       "      <td>3.000000</td>\n",
       "      <td>91.828201</td>\n",
       "      <td>1143.135000</td>\n",
       "      <td>101.388012</td>\n",
       "      <td>8.000000</td>\n",
       "      <td>48.000000</td>\n",
       "      <td>95337.792918</td>\n",
       "    </tr>\n",
       "    <tr>\n",
       "      <th>75%</th>\n",
       "      <td>5.000000</td>\n",
       "      <td>150.987591</td>\n",
       "      <td>1554.280000</td>\n",
       "      <td>148.481068</td>\n",
       "      <td>16.000000</td>\n",
       "      <td>72.000000</td>\n",
       "      <td>97980.675094</td>\n",
       "    </tr>\n",
       "    <tr>\n",
       "      <th>max</th>\n",
       "      <td>17.000000</td>\n",
       "      <td>750.971604</td>\n",
       "      <td>1999.840000</td>\n",
       "      <td>330.275317</td>\n",
       "      <td>24.000000</td>\n",
       "      <td>97.000000</td>\n",
       "      <td>118134.771190</td>\n",
       "    </tr>\n",
       "  </tbody>\n",
       "</table>\n",
       "</div>"
      ],
      "text/plain": [
       "       bedroom_count      net_sqm  center_distance  metro_distance  \\\n",
       "count    4308.000000  4308.000000      4308.000000     4308.000000   \n",
       "mean        3.732823   118.941327      1090.544301      105.665358   \n",
       "std         2.476989    95.469802       555.325830       60.750825   \n",
       "min         1.000000    10.244518        11.800000        1.245338   \n",
       "25%         2.000000    52.240659       635.897500       56.156897   \n",
       "50%         3.000000    91.828201      1143.135000      101.388012   \n",
       "75%         5.000000   150.987591      1554.280000      148.481068   \n",
       "max        17.000000   750.971604      1999.840000      330.275317   \n",
       "\n",
       "             floor          age          price  \n",
       "count  4308.000000  4308.000000    4308.000000  \n",
       "mean      9.397168    48.576834   95701.196185  \n",
       "std       7.517018    27.621465    3919.823988  \n",
       "min       1.000000     0.000000   86113.592974  \n",
       "25%       2.000000    25.000000   92934.251436  \n",
       "50%       8.000000    48.000000   95337.792918  \n",
       "75%      16.000000    72.000000   97980.675094  \n",
       "max      24.000000    97.000000  118134.771190  "
      ]
     },
     "execution_count": 7,
     "metadata": {},
     "output_type": "execute_result"
    }
   ],
   "source": [
    "housing_market_data.describe()"
   ]
  },
  {
   "cell_type": "markdown",
   "metadata": {},
   "source": [
    "## Splitting Dataset"
   ]
  },
  {
   "cell_type": "code",
   "execution_count": 8,
   "metadata": {},
   "outputs": [
    {
     "data": {
      "text/html": [
       "<div>\n",
       "<style scoped>\n",
       "    .dataframe tbody tr th:only-of-type {\n",
       "        vertical-align: middle;\n",
       "    }\n",
       "\n",
       "    .dataframe tbody tr th {\n",
       "        vertical-align: top;\n",
       "    }\n",
       "\n",
       "    .dataframe thead th {\n",
       "        text-align: right;\n",
       "    }\n",
       "</style>\n",
       "<table border=\"1\" class=\"dataframe\">\n",
       "  <thead>\n",
       "    <tr style=\"text-align: right;\">\n",
       "      <th></th>\n",
       "      <th>bedroom_count</th>\n",
       "      <th>net_sqm</th>\n",
       "      <th>center_distance</th>\n",
       "      <th>metro_distance</th>\n",
       "      <th>floor</th>\n",
       "      <th>age</th>\n",
       "    </tr>\n",
       "  </thead>\n",
       "  <tbody>\n",
       "    <tr>\n",
       "      <th>0</th>\n",
       "      <td>1</td>\n",
       "      <td>26.184098</td>\n",
       "      <td>1286.68</td>\n",
       "      <td>204.003817</td>\n",
       "      <td>22</td>\n",
       "      <td>67</td>\n",
       "    </tr>\n",
       "    <tr>\n",
       "      <th>1</th>\n",
       "      <td>1</td>\n",
       "      <td>34.866901</td>\n",
       "      <td>1855.25</td>\n",
       "      <td>186.980360</td>\n",
       "      <td>8</td>\n",
       "      <td>30</td>\n",
       "    </tr>\n",
       "    <tr>\n",
       "      <th>2</th>\n",
       "      <td>1</td>\n",
       "      <td>36.980709</td>\n",
       "      <td>692.09</td>\n",
       "      <td>111.224999</td>\n",
       "      <td>24</td>\n",
       "      <td>24</td>\n",
       "    </tr>\n",
       "    <tr>\n",
       "      <th>3</th>\n",
       "      <td>1</td>\n",
       "      <td>17.445723</td>\n",
       "      <td>1399.49</td>\n",
       "      <td>237.998760</td>\n",
       "      <td>1</td>\n",
       "      <td>66</td>\n",
       "    </tr>\n",
       "    <tr>\n",
       "      <th>4</th>\n",
       "      <td>1</td>\n",
       "      <td>52.587646</td>\n",
       "      <td>84.65</td>\n",
       "      <td>100.996400</td>\n",
       "      <td>20</td>\n",
       "      <td>3</td>\n",
       "    </tr>\n",
       "    <tr>\n",
       "      <th>...</th>\n",
       "      <td>...</td>\n",
       "      <td>...</td>\n",
       "      <td>...</td>\n",
       "      <td>...</td>\n",
       "      <td>...</td>\n",
       "      <td>...</td>\n",
       "    </tr>\n",
       "    <tr>\n",
       "      <th>4303</th>\n",
       "      <td>9</td>\n",
       "      <td>175.166533</td>\n",
       "      <td>1299.71</td>\n",
       "      <td>217.739012</td>\n",
       "      <td>2</td>\n",
       "      <td>5</td>\n",
       "    </tr>\n",
       "    <tr>\n",
       "      <th>4304</th>\n",
       "      <td>6</td>\n",
       "      <td>215.352151</td>\n",
       "      <td>1346.36</td>\n",
       "      <td>77.724676</td>\n",
       "      <td>14</td>\n",
       "      <td>5</td>\n",
       "    </tr>\n",
       "    <tr>\n",
       "      <th>4305</th>\n",
       "      <td>5</td>\n",
       "      <td>299.563972</td>\n",
       "      <td>1585.37</td>\n",
       "      <td>235.537881</td>\n",
       "      <td>3</td>\n",
       "      <td>5</td>\n",
       "    </tr>\n",
       "    <tr>\n",
       "      <th>4306</th>\n",
       "      <td>1</td>\n",
       "      <td>29.193907</td>\n",
       "      <td>1896.23</td>\n",
       "      <td>147.223827</td>\n",
       "      <td>4</td>\n",
       "      <td>2</td>\n",
       "    </tr>\n",
       "    <tr>\n",
       "      <th>4307</th>\n",
       "      <td>2</td>\n",
       "      <td>54.437573</td>\n",
       "      <td>255.24</td>\n",
       "      <td>25.524020</td>\n",
       "      <td>18</td>\n",
       "      <td>0</td>\n",
       "    </tr>\n",
       "  </tbody>\n",
       "</table>\n",
       "<p>4308 rows × 6 columns</p>\n",
       "</div>"
      ],
      "text/plain": [
       "      bedroom_count     net_sqm  center_distance  metro_distance  floor  age\n",
       "0                 1   26.184098          1286.68      204.003817     22   67\n",
       "1                 1   34.866901          1855.25      186.980360      8   30\n",
       "2                 1   36.980709           692.09      111.224999     24   24\n",
       "3                 1   17.445723          1399.49      237.998760      1   66\n",
       "4                 1   52.587646            84.65      100.996400     20    3\n",
       "...             ...         ...              ...             ...    ...  ...\n",
       "4303              9  175.166533          1299.71      217.739012      2    5\n",
       "4304              6  215.352151          1346.36       77.724676     14    5\n",
       "4305              5  299.563972          1585.37      235.537881      3    5\n",
       "4306              1   29.193907          1896.23      147.223827      4    2\n",
       "4307              2   54.437573           255.24       25.524020     18    0\n",
       "\n",
       "[4308 rows x 6 columns]"
      ]
     },
     "execution_count": 8,
     "metadata": {},
     "output_type": "execute_result"
    }
   ],
   "source": [
    "X_data = housing_market_data.iloc[:, :-1]\n",
    "y_data = housing_market_data.iloc[:, -1]\n",
    "X_data"
   ]
  },
  {
   "cell_type": "code",
   "execution_count": 9,
   "metadata": {},
   "outputs": [],
   "source": [
    "from sklearn.model_selection import train_test_split"
   ]
  },
  {
   "cell_type": "code",
   "execution_count": 10,
   "metadata": {},
   "outputs": [],
   "source": [
    "\n",
    "X_train, X_valid, y_train, y_valid = train_test_split(X_data, y_data, random_state=0)"
   ]
  },
  {
   "cell_type": "markdown",
   "metadata": {},
   "source": [
    "## Using Linear Regression"
   ]
  },
  {
   "cell_type": "code",
   "execution_count": 11,
   "metadata": {},
   "outputs": [],
   "source": [
    "from sklearn.linear_model import LinearRegression"
   ]
  },
  {
   "cell_type": "code",
   "execution_count": 12,
   "metadata": {},
   "outputs": [
    {
     "data": {
      "text/html": [
       "<style>#sk-container-id-1 {color: black;}#sk-container-id-1 pre{padding: 0;}#sk-container-id-1 div.sk-toggleable {background-color: white;}#sk-container-id-1 label.sk-toggleable__label {cursor: pointer;display: block;width: 100%;margin-bottom: 0;padding: 0.3em;box-sizing: border-box;text-align: center;}#sk-container-id-1 label.sk-toggleable__label-arrow:before {content: \"▸\";float: left;margin-right: 0.25em;color: #696969;}#sk-container-id-1 label.sk-toggleable__label-arrow:hover:before {color: black;}#sk-container-id-1 div.sk-estimator:hover label.sk-toggleable__label-arrow:before {color: black;}#sk-container-id-1 div.sk-toggleable__content {max-height: 0;max-width: 0;overflow: hidden;text-align: left;background-color: #f0f8ff;}#sk-container-id-1 div.sk-toggleable__content pre {margin: 0.2em;color: black;border-radius: 0.25em;background-color: #f0f8ff;}#sk-container-id-1 input.sk-toggleable__control:checked~div.sk-toggleable__content {max-height: 200px;max-width: 100%;overflow: auto;}#sk-container-id-1 input.sk-toggleable__control:checked~label.sk-toggleable__label-arrow:before {content: \"▾\";}#sk-container-id-1 div.sk-estimator input.sk-toggleable__control:checked~label.sk-toggleable__label {background-color: #d4ebff;}#sk-container-id-1 div.sk-label input.sk-toggleable__control:checked~label.sk-toggleable__label {background-color: #d4ebff;}#sk-container-id-1 input.sk-hidden--visually {border: 0;clip: rect(1px 1px 1px 1px);clip: rect(1px, 1px, 1px, 1px);height: 1px;margin: -1px;overflow: hidden;padding: 0;position: absolute;width: 1px;}#sk-container-id-1 div.sk-estimator {font-family: monospace;background-color: #f0f8ff;border: 1px dotted black;border-radius: 0.25em;box-sizing: border-box;margin-bottom: 0.5em;}#sk-container-id-1 div.sk-estimator:hover {background-color: #d4ebff;}#sk-container-id-1 div.sk-parallel-item::after {content: \"\";width: 100%;border-bottom: 1px solid gray;flex-grow: 1;}#sk-container-id-1 div.sk-label:hover label.sk-toggleable__label {background-color: #d4ebff;}#sk-container-id-1 div.sk-serial::before {content: \"\";position: absolute;border-left: 1px solid gray;box-sizing: border-box;top: 0;bottom: 0;left: 50%;z-index: 0;}#sk-container-id-1 div.sk-serial {display: flex;flex-direction: column;align-items: center;background-color: white;padding-right: 0.2em;padding-left: 0.2em;position: relative;}#sk-container-id-1 div.sk-item {position: relative;z-index: 1;}#sk-container-id-1 div.sk-parallel {display: flex;align-items: stretch;justify-content: center;background-color: white;position: relative;}#sk-container-id-1 div.sk-item::before, #sk-container-id-1 div.sk-parallel-item::before {content: \"\";position: absolute;border-left: 1px solid gray;box-sizing: border-box;top: 0;bottom: 0;left: 50%;z-index: -1;}#sk-container-id-1 div.sk-parallel-item {display: flex;flex-direction: column;z-index: 1;position: relative;background-color: white;}#sk-container-id-1 div.sk-parallel-item:first-child::after {align-self: flex-end;width: 50%;}#sk-container-id-1 div.sk-parallel-item:last-child::after {align-self: flex-start;width: 50%;}#sk-container-id-1 div.sk-parallel-item:only-child::after {width: 0;}#sk-container-id-1 div.sk-dashed-wrapped {border: 1px dashed gray;margin: 0 0.4em 0.5em 0.4em;box-sizing: border-box;padding-bottom: 0.4em;background-color: white;}#sk-container-id-1 div.sk-label label {font-family: monospace;font-weight: bold;display: inline-block;line-height: 1.2em;}#sk-container-id-1 div.sk-label-container {text-align: center;}#sk-container-id-1 div.sk-container {/* jupyter's `normalize.less` sets `[hidden] { display: none; }` but bootstrap.min.css set `[hidden] { display: none !important; }` so we also need the `!important` here to be able to override the default hidden behavior on the sphinx rendered scikit-learn.org. See: https://github.com/scikit-learn/scikit-learn/issues/21755 */display: inline-block !important;position: relative;}#sk-container-id-1 div.sk-text-repr-fallback {display: none;}</style><div id=\"sk-container-id-1\" class=\"sk-top-container\"><div class=\"sk-text-repr-fallback\"><pre>LinearRegression()</pre><b>In a Jupyter environment, please rerun this cell to show the HTML representation or trust the notebook. <br />On GitHub, the HTML representation is unable to render, please try loading this page with nbviewer.org.</b></div><div class=\"sk-container\" hidden><div class=\"sk-item\"><div class=\"sk-estimator sk-toggleable\"><input class=\"sk-toggleable__control sk-hidden--visually\" id=\"sk-estimator-id-1\" type=\"checkbox\" checked><label for=\"sk-estimator-id-1\" class=\"sk-toggleable__label sk-toggleable__label-arrow\">LinearRegression</label><div class=\"sk-toggleable__content\"><pre>LinearRegression()</pre></div></div></div></div></div>"
      ],
      "text/plain": [
       "LinearRegression()"
      ]
     },
     "execution_count": 12,
     "metadata": {},
     "output_type": "execute_result"
    }
   ],
   "source": [
    "linear_regression_model = LinearRegression()\n",
    "linear_regression_model.fit(X_train, y_train)"
   ]
  },
  {
   "cell_type": "code",
   "execution_count": 13,
   "metadata": {},
   "outputs": [],
   "source": [
    "from sklearn.metrics import mean_absolute_error\n",
    "from sklearn.metrics import mean_absolute_percentage_error\n",
    "from sklearn.metrics import median_absolute_error"
   ]
  },
  {
   "cell_type": "code",
   "execution_count": 14,
   "metadata": {},
   "outputs": [],
   "source": [
    "predicted_house_prices = linear_regression_model.predict(X_valid)"
   ]
  },
  {
   "cell_type": "code",
   "execution_count": 15,
   "metadata": {},
   "outputs": [
    {
     "name": "stdout",
     "output_type": "stream",
     "text": [
      "Predictions:  [94736.50395287 96658.56131725 95930.91656722 94087.13567708\n",
      " 92699.69722404]\n",
      "Actual:  1119    96426.526925\n",
      "2734    95784.659028\n",
      "1798    97188.481700\n",
      "481     94688.042935\n",
      "559     93982.036968\n",
      "Name: price, dtype: float64\n"
     ]
    }
   ],
   "source": [
    "print(\"Predictions: \", predicted_house_prices[:5])\n",
    "print(\"Actual: \", y_valid[:5])"
   ]
  },
  {
   "cell_type": "code",
   "execution_count": 16,
   "metadata": {},
   "outputs": [],
   "source": [
    "def median_absolute_percentage_error(y_true, y_predicted):\n",
    "    errors = np.abs((y_true - y_predicted) / y_true) * 100\n",
    "    return np.median(errors)\n",
    "\n",
    "def display_metrics(y_true, y_predicted):\n",
    "    mae_0 = mean_absolute_error(y_true, y_predicted)\n",
    "    mae_1 = median_absolute_error(y_true, y_predicted)\n",
    "    mae_perc_0 = mean_absolute_percentage_error(y_true, y_predicted)\n",
    "    mae_perc_1 = median_absolute_percentage_error(y_true, y_predicted)\n",
    "    \n",
    "    print(\"Mean Absolute Error (MAE): \", \"{:.4f}\".format(mae_0), sep=\"\\t\")\n",
    "    print(\"Median Absolute Error (MAE): \", \"{:.4f}\".format(mae_1), sep=\"\\t\")\n",
    "\n",
    "    print(\"\\nMean Absolute Percentage Error (MAPE): \", \"{:.2f}%\".format(mae_perc_0), sep=\"\\t\\t\")\n",
    "    print(\"Median Absolute Percentage Error (MAPE): \", \"{:.2f}%\".format(mae_perc_1), sep=\"\\t\")"
   ]
  },
  {
   "cell_type": "code",
   "execution_count": 17,
   "metadata": {},
   "outputs": [
    {
     "name": "stdout",
     "output_type": "stream",
     "text": [
      "Mean Absolute Error (MAE): \t1479.6201\n",
      "Median Absolute Error (MAE): \t1172.8740\n",
      "\n",
      "Mean Absolute Percentage Error (MAPE): \t\t0.02%\n",
      "Median Absolute Percentage Error (MAPE): \t1.22%\n"
     ]
    }
   ],
   "source": [
    "# Metrics for Linear Regression Model\n",
    "display_metrics(y_valid, predicted_house_prices)"
   ]
  },
  {
   "cell_type": "markdown",
   "metadata": {},
   "source": [
    "## Using Decision Tree"
   ]
  },
  {
   "cell_type": "code",
   "execution_count": 18,
   "metadata": {},
   "outputs": [],
   "source": [
    "from sklearn.tree import DecisionTreeRegressor"
   ]
  },
  {
   "cell_type": "code",
   "execution_count": 19,
   "metadata": {},
   "outputs": [],
   "source": [
    "decision_tree_model = DecisionTreeRegressor(random_state=0)\n",
    "decision_tree_model_2 = DecisionTreeRegressor(max_depth=2, random_state=0)\n",
    "decision_tree_model_3 = DecisionTreeRegressor(max_depth=3, random_state=0)\n",
    "decision_tree_model_4 = DecisionTreeRegressor(max_depth=4, random_state=0)\n",
    "decision_tree_model_5 = DecisionTreeRegressor(max_depth=5, random_state=0)\n",
    "decision_tree_model_6 = DecisionTreeRegressor(max_depth=6, random_state=0)\n",
    "decision_tree_model_7 = DecisionTreeRegressor(max_depth=7, random_state=0)\n",
    "decision_tree_model_8 = DecisionTreeRegressor(max_depth=8, random_state=0)"
   ]
  },
  {
   "cell_type": "code",
   "execution_count": 20,
   "metadata": {},
   "outputs": [
    {
     "data": {
      "text/html": [
       "<style>#sk-container-id-2 {color: black;}#sk-container-id-2 pre{padding: 0;}#sk-container-id-2 div.sk-toggleable {background-color: white;}#sk-container-id-2 label.sk-toggleable__label {cursor: pointer;display: block;width: 100%;margin-bottom: 0;padding: 0.3em;box-sizing: border-box;text-align: center;}#sk-container-id-2 label.sk-toggleable__label-arrow:before {content: \"▸\";float: left;margin-right: 0.25em;color: #696969;}#sk-container-id-2 label.sk-toggleable__label-arrow:hover:before {color: black;}#sk-container-id-2 div.sk-estimator:hover label.sk-toggleable__label-arrow:before {color: black;}#sk-container-id-2 div.sk-toggleable__content {max-height: 0;max-width: 0;overflow: hidden;text-align: left;background-color: #f0f8ff;}#sk-container-id-2 div.sk-toggleable__content pre {margin: 0.2em;color: black;border-radius: 0.25em;background-color: #f0f8ff;}#sk-container-id-2 input.sk-toggleable__control:checked~div.sk-toggleable__content {max-height: 200px;max-width: 100%;overflow: auto;}#sk-container-id-2 input.sk-toggleable__control:checked~label.sk-toggleable__label-arrow:before {content: \"▾\";}#sk-container-id-2 div.sk-estimator input.sk-toggleable__control:checked~label.sk-toggleable__label {background-color: #d4ebff;}#sk-container-id-2 div.sk-label input.sk-toggleable__control:checked~label.sk-toggleable__label {background-color: #d4ebff;}#sk-container-id-2 input.sk-hidden--visually {border: 0;clip: rect(1px 1px 1px 1px);clip: rect(1px, 1px, 1px, 1px);height: 1px;margin: -1px;overflow: hidden;padding: 0;position: absolute;width: 1px;}#sk-container-id-2 div.sk-estimator {font-family: monospace;background-color: #f0f8ff;border: 1px dotted black;border-radius: 0.25em;box-sizing: border-box;margin-bottom: 0.5em;}#sk-container-id-2 div.sk-estimator:hover {background-color: #d4ebff;}#sk-container-id-2 div.sk-parallel-item::after {content: \"\";width: 100%;border-bottom: 1px solid gray;flex-grow: 1;}#sk-container-id-2 div.sk-label:hover label.sk-toggleable__label {background-color: #d4ebff;}#sk-container-id-2 div.sk-serial::before {content: \"\";position: absolute;border-left: 1px solid gray;box-sizing: border-box;top: 0;bottom: 0;left: 50%;z-index: 0;}#sk-container-id-2 div.sk-serial {display: flex;flex-direction: column;align-items: center;background-color: white;padding-right: 0.2em;padding-left: 0.2em;position: relative;}#sk-container-id-2 div.sk-item {position: relative;z-index: 1;}#sk-container-id-2 div.sk-parallel {display: flex;align-items: stretch;justify-content: center;background-color: white;position: relative;}#sk-container-id-2 div.sk-item::before, #sk-container-id-2 div.sk-parallel-item::before {content: \"\";position: absolute;border-left: 1px solid gray;box-sizing: border-box;top: 0;bottom: 0;left: 50%;z-index: -1;}#sk-container-id-2 div.sk-parallel-item {display: flex;flex-direction: column;z-index: 1;position: relative;background-color: white;}#sk-container-id-2 div.sk-parallel-item:first-child::after {align-self: flex-end;width: 50%;}#sk-container-id-2 div.sk-parallel-item:last-child::after {align-self: flex-start;width: 50%;}#sk-container-id-2 div.sk-parallel-item:only-child::after {width: 0;}#sk-container-id-2 div.sk-dashed-wrapped {border: 1px dashed gray;margin: 0 0.4em 0.5em 0.4em;box-sizing: border-box;padding-bottom: 0.4em;background-color: white;}#sk-container-id-2 div.sk-label label {font-family: monospace;font-weight: bold;display: inline-block;line-height: 1.2em;}#sk-container-id-2 div.sk-label-container {text-align: center;}#sk-container-id-2 div.sk-container {/* jupyter's `normalize.less` sets `[hidden] { display: none; }` but bootstrap.min.css set `[hidden] { display: none !important; }` so we also need the `!important` here to be able to override the default hidden behavior on the sphinx rendered scikit-learn.org. See: https://github.com/scikit-learn/scikit-learn/issues/21755 */display: inline-block !important;position: relative;}#sk-container-id-2 div.sk-text-repr-fallback {display: none;}</style><div id=\"sk-container-id-2\" class=\"sk-top-container\"><div class=\"sk-text-repr-fallback\"><pre>DecisionTreeRegressor(max_depth=8, random_state=0)</pre><b>In a Jupyter environment, please rerun this cell to show the HTML representation or trust the notebook. <br />On GitHub, the HTML representation is unable to render, please try loading this page with nbviewer.org.</b></div><div class=\"sk-container\" hidden><div class=\"sk-item\"><div class=\"sk-estimator sk-toggleable\"><input class=\"sk-toggleable__control sk-hidden--visually\" id=\"sk-estimator-id-2\" type=\"checkbox\" checked><label for=\"sk-estimator-id-2\" class=\"sk-toggleable__label sk-toggleable__label-arrow\">DecisionTreeRegressor</label><div class=\"sk-toggleable__content\"><pre>DecisionTreeRegressor(max_depth=8, random_state=0)</pre></div></div></div></div></div>"
      ],
      "text/plain": [
       "DecisionTreeRegressor(max_depth=8, random_state=0)"
      ]
     },
     "execution_count": 20,
     "metadata": {},
     "output_type": "execute_result"
    }
   ],
   "source": [
    "decision_tree_model.fit(X_train, y_train)\n",
    "decision_tree_model_2.fit(X_train, y_train)\n",
    "decision_tree_model_3.fit(X_train, y_train)\n",
    "decision_tree_model_4.fit(X_train, y_train)\n",
    "decision_tree_model_5.fit(X_train, y_train)\n",
    "decision_tree_model_6.fit(X_train, y_train)\n",
    "decision_tree_model_7.fit(X_train, y_train)\n",
    "decision_tree_model_8.fit(X_train, y_train)"
   ]
  },
  {
   "cell_type": "code",
   "execution_count": 21,
   "metadata": {},
   "outputs": [],
   "source": [
    "loss_axis = []\n",
    "\n",
    "y_pred_DTree = decision_tree_model.predict(X_valid)\n",
    "y_pred_DTree_2 = decision_tree_model_2.predict(X_valid)\n",
    "y_pred_DTree_3 = decision_tree_model_3.predict(X_valid)\n",
    "y_pred_DTree_4 = decision_tree_model_4.predict(X_valid)\n",
    "y_pred_DTree_5 = decision_tree_model_5.predict(X_valid)\n",
    "y_pred_DTree_6 = decision_tree_model_6.predict(X_valid)\n",
    "y_pred_DTree_7 = decision_tree_model_7.predict(X_valid)\n",
    "y_pred_DTree_8 = decision_tree_model_8.predict(X_valid)\n",
    "\n",
    "loss_axis.append(mean_absolute_error(y_valid, y_pred_DTree))\n",
    "loss_axis.append(mean_absolute_error(y_valid, y_pred_DTree_2))\n",
    "loss_axis.append(mean_absolute_error(y_valid, y_pred_DTree_3))\n",
    "loss_axis.append(mean_absolute_error(y_valid, y_pred_DTree_4))\n",
    "loss_axis.append(mean_absolute_error(y_valid, y_pred_DTree_5))\n",
    "loss_axis.append(mean_absolute_error(y_valid, y_pred_DTree_6))\n",
    "loss_axis.append(mean_absolute_error(y_valid, y_pred_DTree_7))\n",
    "loss_axis.append(mean_absolute_error(y_valid, y_pred_DTree_8))"
   ]
  },
  {
   "cell_type": "code",
   "execution_count": 22,
   "metadata": {},
   "outputs": [
    {
     "data": {
      "image/png": "[encoded data removed]",
      "text/plain": [
       "<Figure size 640x480 with 1 Axes>"
      ]
     },
     "metadata": {},
     "output_type": "display_data"
    },
    {
     "name": "stdout",
     "output_type": "stream",
     "text": [
      "MAE with NO Max Depth:  2201.7241724836153\n"
     ]
    }
   ],
   "source": [
    "plt.plot(np.arange(2,9), np.array(loss_axis[1:]))\n",
    "plt.xlabel(\"Max Depth\")\n",
    "plt.ylabel(\"Mean Absolute Error (MAE)\")\n",
    "plt.show()\n",
    "\n",
    "print(\"MAE with NO Max Depth: \",loss_axis[0])\n",
    "# Therefore, the most optimtimal Max Depth is 6"
   ]
  },
  {
   "cell_type": "code",
   "execution_count": 23,
   "metadata": {},
   "outputs": [
    {
     "name": "stdout",
     "output_type": "stream",
     "text": [
      "Mean Absolute Error (MAE): \t1750.0785\n",
      "Median Absolute Error (MAE): \t1404.6456\n",
      "\n",
      "Mean Absolute Percentage Error (MAPE): \t\t0.02%\n",
      "Median Absolute Percentage Error (MAPE): \t1.48%\n"
     ]
    }
   ],
   "source": [
    "# Metrics for Decision Tree Model\n",
    "display_metrics(y_valid, y_pred_DTree_6)"
   ]
  },
  {
   "cell_type": "markdown",
   "metadata": {},
   "source": [
    "## Using Random Forests"
   ]
  },
  {
   "cell_type": "code",
   "execution_count": 24,
   "metadata": {},
   "outputs": [],
   "source": [
    "from sklearn.ensemble import RandomForestRegressor"
   ]
  },
  {
   "cell_type": "code",
   "execution_count": 31,
   "metadata": {},
   "outputs": [
    {
     "data": {
      "text/html": [
       "<style>#sk-container-id-5 {color: black;}#sk-container-id-5 pre{padding: 0;}#sk-container-id-5 div.sk-toggleable {background-color: white;}#sk-container-id-5 label.sk-toggleable__label {cursor: pointer;display: block;width: 100%;margin-bottom: 0;padding: 0.3em;box-sizing: border-box;text-align: center;}#sk-container-id-5 label.sk-toggleable__label-arrow:before {content: \"▸\";float: left;margin-right: 0.25em;color: #696969;}#sk-container-id-5 label.sk-toggleable__label-arrow:hover:before {color: black;}#sk-container-id-5 div.sk-estimator:hover label.sk-toggleable__label-arrow:before {color: black;}#sk-container-id-5 div.sk-toggleable__content {max-height: 0;max-width: 0;overflow: hidden;text-align: left;background-color: #f0f8ff;}#sk-container-id-5 div.sk-toggleable__content pre {margin: 0.2em;color: black;border-radius: 0.25em;background-color: #f0f8ff;}#sk-container-id-5 input.sk-toggleable__control:checked~div.sk-toggleable__content {max-height: 200px;max-width: 100%;overflow: auto;}#sk-container-id-5 input.sk-toggleable__control:checked~label.sk-toggleable__label-arrow:before {content: \"▾\";}#sk-container-id-5 div.sk-estimator input.sk-toggleable__control:checked~label.sk-toggleable__label {background-color: #d4ebff;}#sk-container-id-5 div.sk-label input.sk-toggleable__control:checked~label.sk-toggleable__label {background-color: #d4ebff;}#sk-container-id-5 input.sk-hidden--visually {border: 0;clip: rect(1px 1px 1px 1px);clip: rect(1px, 1px, 1px, 1px);height: 1px;margin: -1px;overflow: hidden;padding: 0;position: absolute;width: 1px;}#sk-container-id-5 div.sk-estimator {font-family: monospace;background-color: #f0f8ff;border: 1px dotted black;border-radius: 0.25em;box-sizing: border-box;margin-bottom: 0.5em;}#sk-container-id-5 div.sk-estimator:hover {background-color: #d4ebff;}#sk-container-id-5 div.sk-parallel-item::after {content: \"\";width: 100%;border-bottom: 1px solid gray;flex-grow: 1;}#sk-container-id-5 div.sk-label:hover label.sk-toggleable__label {background-color: #d4ebff;}#sk-container-id-5 div.sk-serial::before {content: \"\";position: absolute;border-left: 1px solid gray;box-sizing: border-box;top: 0;bottom: 0;left: 50%;z-index: 0;}#sk-container-id-5 div.sk-serial {display: flex;flex-direction: column;align-items: center;background-color: white;padding-right: 0.2em;padding-left: 0.2em;position: relative;}#sk-container-id-5 div.sk-item {position: relative;z-index: 1;}#sk-container-id-5 div.sk-parallel {display: flex;align-items: stretch;justify-content: center;background-color: white;position: relative;}#sk-container-id-5 div.sk-item::before, #sk-container-id-5 div.sk-parallel-item::before {content: \"\";position: absolute;border-left: 1px solid gray;box-sizing: border-box;top: 0;bottom: 0;left: 50%;z-index: -1;}#sk-container-id-5 div.sk-parallel-item {display: flex;flex-direction: column;z-index: 1;position: relative;background-color: white;}#sk-container-id-5 div.sk-parallel-item:first-child::after {align-self: flex-end;width: 50%;}#sk-container-id-5 div.sk-parallel-item:last-child::after {align-self: flex-start;width: 50%;}#sk-container-id-5 div.sk-parallel-item:only-child::after {width: 0;}#sk-container-id-5 div.sk-dashed-wrapped {border: 1px dashed gray;margin: 0 0.4em 0.5em 0.4em;box-sizing: border-box;padding-bottom: 0.4em;background-color: white;}#sk-container-id-5 div.sk-label label {font-family: monospace;font-weight: bold;display: inline-block;line-height: 1.2em;}#sk-container-id-5 div.sk-label-container {text-align: center;}#sk-container-id-5 div.sk-container {/* jupyter's `normalize.less` sets `[hidden] { display: none; }` but bootstrap.min.css set `[hidden] { display: none !important; }` so we also need the `!important` here to be able to override the default hidden behavior on the sphinx rendered scikit-learn.org. See: https://github.com/scikit-learn/scikit-learn/issues/21755 */display: inline-block !important;position: relative;}#sk-container-id-5 div.sk-text-repr-fallback {display: none;}</style><div id=\"sk-container-id-5\" class=\"sk-top-container\"><div class=\"sk-text-repr-fallback\"><pre>RandomForestRegressor(max_depth=6, random_state=0)</pre><b>In a Jupyter environment, please rerun this cell to show the HTML representation or trust the notebook. <br />On GitHub, the HTML representation is unable to render, please try loading this page with nbviewer.org.</b></div><div class=\"sk-container\" hidden><div class=\"sk-item\"><div class=\"sk-estimator sk-toggleable\"><input class=\"sk-toggleable__control sk-hidden--visually\" id=\"sk-estimator-id-5\" type=\"checkbox\" checked><label for=\"sk-estimator-id-5\" class=\"sk-toggleable__label sk-toggleable__label-arrow\">RandomForestRegressor</label><div class=\"sk-toggleable__content\"><pre>RandomForestRegressor(max_depth=6, random_state=0)</pre></div></div></div></div></div>"
      ],
      "text/plain": [
       "RandomForestRegressor(max_depth=6, random_state=0)"
      ]
     },
     "execution_count": 31,
     "metadata": {},
     "output_type": "execute_result"
    }
   ],
   "source": [
    "random_forest_model = RandomForestRegressor(random_state=0)\n",
    "random_forest_model_maxDepth_6 = RandomForestRegressor(max_depth=6, random_state=0)\n",
    "random_forest_model.fit(X_train, y_train)\n",
    "random_forest_model_maxDepth_6.fit(X_train, y_train)"
   ]
  },
  {
   "cell_type": "code",
   "execution_count": 32,
   "metadata": {},
   "outputs": [],
   "source": [
    "y_pred_RForest = random_forest_model.predict(X_valid)\n",
    "y_pred_RForest_1 = random_forest_model_maxDepth_6.predict(X_valid)"
   ]
  },
  {
   "cell_type": "code",
   "execution_count": 33,
   "metadata": {},
   "outputs": [
    {
     "name": "stdout",
     "output_type": "stream",
     "text": [
      "Mean Absolute Error (MAE): \t1547.4949\n",
      "Median Absolute Error (MAE): \t1231.8475\n",
      "\n",
      "Mean Absolute Percentage Error (MAPE): \t\t0.02%\n",
      "Median Absolute Percentage Error (MAPE): \t1.29%\n"
     ]
    }
   ],
   "source": [
    "# Metrics for Random Forest Models\n",
    "display_metrics(y_valid, y_pred_RForest)"
   ]
  },
  {
   "cell_type": "code",
   "execution_count": 35,
   "metadata": {},
   "outputs": [
    {
     "name": "stdout",
     "output_type": "stream",
     "text": [
      "Mean Absolute Error (MAE): \t1623.2314\n",
      "Median Absolute Error (MAE): \t1281.4888\n",
      "\n",
      "Mean Absolute Percentage Error (MAPE): \t\t0.02%\n",
      "Median Absolute Percentage Error (MAPE): \t1.34%\n"
     ]
    }
   ],
   "source": [
    "display_metrics(y_valid, y_pred_RForest_1)"
   ]
  },
  {
   "cell_type": "markdown",
   "metadata": {},
   "source": [
    "Linear Regression seems to be the best option."
   ]
  }
 ],
 "metadata": {
  "kernelspec": {
   "display_name": "Python 3",
   "language": "python",
   "name": "python3"
  },
  "language_info": {
   "codemirror_mode": {
    "name": "ipython",
    "version": 3
   },
   "file_extension": ".py",
   "mimetype": "text/x-python",
   "name": "python",
   "nbconvert_exporter": "python",
   "pygments_lexer": "ipython3",
   "version": "3.10.10"
  }
 },
 "nbformat": 4,
 "nbformat_minor": 2
}
